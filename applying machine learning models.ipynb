{
  "cells": [
    {
      "cell_type": "markdown",
      "metadata": {
        "id": "view-in-github",
        "colab_type": "text"
      },
      "source": [
        "<a href=\"https://colab.research.google.com/github/NadhemBenhadjali/-Swahili-News-Classification-LLM-Finetuning-Multiclassification/blob/main/applying%20machine%20learning%20models.ipynb\" target=\"_parent\"><img src=\"https://colab.research.google.com/assets/colab-badge.svg\" alt=\"Open In Colab\"/></a>"
      ]
    },
    {
      "cell_type": "code",
      "execution_count": null,
      "metadata": {
        "id": "LOtOvBgpnwtG"
      },
      "outputs": [],
      "source": [
        "# import important modules\n",
        "import numpy as np\n",
        "import pandas as pd\n",
        "import nltk\n",
        "from sklearn.feature_extraction.text import TfidfVectorizer\n",
        "\n",
        "\n",
        "# sklearn modules\n",
        "from sklearn.model_selection import train_test_split\n",
        "from sklearn.naive_bayes import MultinomialNB # classifier\n",
        "\n",
        "from sklearn.metrics import log_loss #evaluation metric\n",
        "from sklearn.feature_extraction.text import CountVectorizer\n",
        "\n",
        "# text preprocessing modules\n",
        "import re\n",
        "from string import punctuation\n",
        "\n",
        "import warnings\n",
        "warnings.filterwarnings(\"ignore\")\n",
        "# seeding\n",
        "np.random.seed(123)\n"
      ]
    },
    {
      "cell_type": "code",
      "execution_count": null,
      "metadata": {
        "id": "Dob18MXXnwtI"
      },
      "outputs": [],
      "source": [
        "# load data\n",
        "path = ''\n",
        "train = pd.read_csv(path+\"/content/Train (11).csv\")\n",
        "test = pd.read_csv(path+\"/content/Test (7).csv\")"
      ]
    },
    {
      "cell_type": "code",
      "execution_count": null,
      "metadata": {
        "id": "C2NR9wcWnwtJ"
      },
      "outputs": [],
      "source": [
        "stopword=[\"akasema\",\"alikuwa\",\" alisema\",\"baada\",\"basi\",\"bila\",\"cha\",\"chini\",\"hadi\",\"hapo\",\"hata\",\"hivyo\",\"hiyo\",\"huku\",\"huo\",\"ili\",\"ilikuwa\",\"juu\",\"kama\",\"karibu\",\"katika\",\"kila\",\"kima\",\"kisha\",\"kubwa\",\"kutoka\",\"kuwa\",\"kwa\",\"kwamba\",\"kwenda\",\"kwenye \",\"la\",\"lakini\",\"mara\",\"mdogo\",\"mimi\",\"mkubwa\",\"mmoja\",\"moja\",\"muda\",\"mwenye\",\"na\",\"naye\",\"ndani\",\"ng\",\"ni\",\"nini\",\"nonkungu\",\"pamoja\",\"pia\",\"sana\",\"sasa\",\"sauti\",\"tafadhali\",\"tena\",\"tu\",\"vile\",\"wa\",\"wakati\",\"wake\",\"walikuwa\",\"wao\",\"watu\",\"wengine\",\"wote\",\"ya\",\"yake\",\"yangu\",\"yao\",\"yeye\",\"yule \",\"za\",\"zaidi\",\"zake\"]\n"
      ]
    },
    {
      "cell_type": "code",
      "execution_count": null,
      "metadata": {
        "colab": {
          "base_uri": "https://localhost:8080/",
          "height": 206
        },
        "id": "4COhyS6CnwtJ",
        "outputId": "5ac4d95f-5107-4ab3-8e49-101af4df2e2c"
      },
      "outputs": [
        {
          "output_type": "execute_result",
          "data": {
            "text/plain": [
              "       id                                            content  category\n",
              "0     SW0   SERIKALI imesema haitakuwa tayari kuona amani...   Kitaifa\n",
              "1     SW1   Mkuu wa Mkoa wa Tabora, Aggrey Mwanri amesiti...  Biashara\n",
              "2    SW10   SERIKALI imetoa miezi sita kwa taasisi zote z...   Kitaifa\n",
              "3   SW100   KAMPUNI ya mchezo wa kubahatisha ya M-bet ime...   michezo\n",
              "4  SW1000   WATANZANIA wamekumbushwa kusherehekea sikukuu...   Kitaifa"
            ],
            "text/html": [
              "\n",
              "  <div id=\"df-8d6dd612-ee09-4fed-966f-b9805593a9db\" class=\"colab-df-container\">\n",
              "    <div>\n",
              "<style scoped>\n",
              "    .dataframe tbody tr th:only-of-type {\n",
              "        vertical-align: middle;\n",
              "    }\n",
              "\n",
              "    .dataframe tbody tr th {\n",
              "        vertical-align: top;\n",
              "    }\n",
              "\n",
              "    .dataframe thead th {\n",
              "        text-align: right;\n",
              "    }\n",
              "</style>\n",
              "<table border=\"1\" class=\"dataframe\">\n",
              "  <thead>\n",
              "    <tr style=\"text-align: right;\">\n",
              "      <th></th>\n",
              "      <th>id</th>\n",
              "      <th>content</th>\n",
              "      <th>category</th>\n",
              "    </tr>\n",
              "  </thead>\n",
              "  <tbody>\n",
              "    <tr>\n",
              "      <th>0</th>\n",
              "      <td>SW0</td>\n",
              "      <td>SERIKALI imesema haitakuwa tayari kuona amani...</td>\n",
              "      <td>Kitaifa</td>\n",
              "    </tr>\n",
              "    <tr>\n",
              "      <th>1</th>\n",
              "      <td>SW1</td>\n",
              "      <td>Mkuu wa Mkoa wa Tabora, Aggrey Mwanri amesiti...</td>\n",
              "      <td>Biashara</td>\n",
              "    </tr>\n",
              "    <tr>\n",
              "      <th>2</th>\n",
              "      <td>SW10</td>\n",
              "      <td>SERIKALI imetoa miezi sita kwa taasisi zote z...</td>\n",
              "      <td>Kitaifa</td>\n",
              "    </tr>\n",
              "    <tr>\n",
              "      <th>3</th>\n",
              "      <td>SW100</td>\n",
              "      <td>KAMPUNI ya mchezo wa kubahatisha ya M-bet ime...</td>\n",
              "      <td>michezo</td>\n",
              "    </tr>\n",
              "    <tr>\n",
              "      <th>4</th>\n",
              "      <td>SW1000</td>\n",
              "      <td>WATANZANIA wamekumbushwa kusherehekea sikukuu...</td>\n",
              "      <td>Kitaifa</td>\n",
              "    </tr>\n",
              "  </tbody>\n",
              "</table>\n",
              "</div>\n",
              "    <div class=\"colab-df-buttons\">\n",
              "\n",
              "  <div class=\"colab-df-container\">\n",
              "    <button class=\"colab-df-convert\" onclick=\"convertToInteractive('df-8d6dd612-ee09-4fed-966f-b9805593a9db')\"\n",
              "            title=\"Convert this dataframe to an interactive table.\"\n",
              "            style=\"display:none;\">\n",
              "\n",
              "  <svg xmlns=\"http://www.w3.org/2000/svg\" height=\"24px\" viewBox=\"0 -960 960 960\">\n",
              "    <path d=\"M120-120v-720h720v720H120Zm60-500h600v-160H180v160Zm220 220h160v-160H400v160Zm0 220h160v-160H400v160ZM180-400h160v-160H180v160Zm440 0h160v-160H620v160ZM180-180h160v-160H180v160Zm440 0h160v-160H620v160Z\"/>\n",
              "  </svg>\n",
              "    </button>\n",
              "\n",
              "  <style>\n",
              "    .colab-df-container {\n",
              "      display:flex;\n",
              "      gap: 12px;\n",
              "    }\n",
              "\n",
              "    .colab-df-convert {\n",
              "      background-color: #E8F0FE;\n",
              "      border: none;\n",
              "      border-radius: 50%;\n",
              "      cursor: pointer;\n",
              "      display: none;\n",
              "      fill: #1967D2;\n",
              "      height: 32px;\n",
              "      padding: 0 0 0 0;\n",
              "      width: 32px;\n",
              "    }\n",
              "\n",
              "    .colab-df-convert:hover {\n",
              "      background-color: #E2EBFA;\n",
              "      box-shadow: 0px 1px 2px rgba(60, 64, 67, 0.3), 0px 1px 3px 1px rgba(60, 64, 67, 0.15);\n",
              "      fill: #174EA6;\n",
              "    }\n",
              "\n",
              "    .colab-df-buttons div {\n",
              "      margin-bottom: 4px;\n",
              "    }\n",
              "\n",
              "    [theme=dark] .colab-df-convert {\n",
              "      background-color: #3B4455;\n",
              "      fill: #D2E3FC;\n",
              "    }\n",
              "\n",
              "    [theme=dark] .colab-df-convert:hover {\n",
              "      background-color: #434B5C;\n",
              "      box-shadow: 0px 1px 3px 1px rgba(0, 0, 0, 0.15);\n",
              "      filter: drop-shadow(0px 1px 2px rgba(0, 0, 0, 0.3));\n",
              "      fill: #FFFFFF;\n",
              "    }\n",
              "  </style>\n",
              "\n",
              "    <script>\n",
              "      const buttonEl =\n",
              "        document.querySelector('#df-8d6dd612-ee09-4fed-966f-b9805593a9db button.colab-df-convert');\n",
              "      buttonEl.style.display =\n",
              "        google.colab.kernel.accessAllowed ? 'block' : 'none';\n",
              "\n",
              "      async function convertToInteractive(key) {\n",
              "        const element = document.querySelector('#df-8d6dd612-ee09-4fed-966f-b9805593a9db');\n",
              "        const dataTable =\n",
              "          await google.colab.kernel.invokeFunction('convertToInteractive',\n",
              "                                                    [key], {});\n",
              "        if (!dataTable) return;\n",
              "\n",
              "        const docLinkHtml = 'Like what you see? Visit the ' +\n",
              "          '<a target=\"_blank\" href=https://colab.research.google.com/notebooks/data_table.ipynb>data table notebook</a>'\n",
              "          + ' to learn more about interactive tables.';\n",
              "        element.innerHTML = '';\n",
              "        dataTable['output_type'] = 'display_data';\n",
              "        await google.colab.output.renderOutput(dataTable, element);\n",
              "        const docLink = document.createElement('div');\n",
              "        docLink.innerHTML = docLinkHtml;\n",
              "        element.appendChild(docLink);\n",
              "      }\n",
              "    </script>\n",
              "  </div>\n",
              "\n",
              "\n",
              "<div id=\"df-21065edf-b209-4b38-ab02-1dfb938858cd\">\n",
              "  <button class=\"colab-df-quickchart\" onclick=\"quickchart('df-21065edf-b209-4b38-ab02-1dfb938858cd')\"\n",
              "            title=\"Suggest charts\"\n",
              "            style=\"display:none;\">\n",
              "\n",
              "<svg xmlns=\"http://www.w3.org/2000/svg\" height=\"24px\"viewBox=\"0 0 24 24\"\n",
              "     width=\"24px\">\n",
              "    <g>\n",
              "        <path d=\"M19 3H5c-1.1 0-2 .9-2 2v14c0 1.1.9 2 2 2h14c1.1 0 2-.9 2-2V5c0-1.1-.9-2-2-2zM9 17H7v-7h2v7zm4 0h-2V7h2v10zm4 0h-2v-4h2v4z\"/>\n",
              "    </g>\n",
              "</svg>\n",
              "  </button>\n",
              "\n",
              "<style>\n",
              "  .colab-df-quickchart {\n",
              "      --bg-color: #E8F0FE;\n",
              "      --fill-color: #1967D2;\n",
              "      --hover-bg-color: #E2EBFA;\n",
              "      --hover-fill-color: #174EA6;\n",
              "      --disabled-fill-color: #AAA;\n",
              "      --disabled-bg-color: #DDD;\n",
              "  }\n",
              "\n",
              "  [theme=dark] .colab-df-quickchart {\n",
              "      --bg-color: #3B4455;\n",
              "      --fill-color: #D2E3FC;\n",
              "      --hover-bg-color: #434B5C;\n",
              "      --hover-fill-color: #FFFFFF;\n",
              "      --disabled-bg-color: #3B4455;\n",
              "      --disabled-fill-color: #666;\n",
              "  }\n",
              "\n",
              "  .colab-df-quickchart {\n",
              "    background-color: var(--bg-color);\n",
              "    border: none;\n",
              "    border-radius: 50%;\n",
              "    cursor: pointer;\n",
              "    display: none;\n",
              "    fill: var(--fill-color);\n",
              "    height: 32px;\n",
              "    padding: 0;\n",
              "    width: 32px;\n",
              "  }\n",
              "\n",
              "  .colab-df-quickchart:hover {\n",
              "    background-color: var(--hover-bg-color);\n",
              "    box-shadow: 0 1px 2px rgba(60, 64, 67, 0.3), 0 1px 3px 1px rgba(60, 64, 67, 0.15);\n",
              "    fill: var(--button-hover-fill-color);\n",
              "  }\n",
              "\n",
              "  .colab-df-quickchart-complete:disabled,\n",
              "  .colab-df-quickchart-complete:disabled:hover {\n",
              "    background-color: var(--disabled-bg-color);\n",
              "    fill: var(--disabled-fill-color);\n",
              "    box-shadow: none;\n",
              "  }\n",
              "\n",
              "  .colab-df-spinner {\n",
              "    border: 2px solid var(--fill-color);\n",
              "    border-color: transparent;\n",
              "    border-bottom-color: var(--fill-color);\n",
              "    animation:\n",
              "      spin 1s steps(1) infinite;\n",
              "  }\n",
              "\n",
              "  @keyframes spin {\n",
              "    0% {\n",
              "      border-color: transparent;\n",
              "      border-bottom-color: var(--fill-color);\n",
              "      border-left-color: var(--fill-color);\n",
              "    }\n",
              "    20% {\n",
              "      border-color: transparent;\n",
              "      border-left-color: var(--fill-color);\n",
              "      border-top-color: var(--fill-color);\n",
              "    }\n",
              "    30% {\n",
              "      border-color: transparent;\n",
              "      border-left-color: var(--fill-color);\n",
              "      border-top-color: var(--fill-color);\n",
              "      border-right-color: var(--fill-color);\n",
              "    }\n",
              "    40% {\n",
              "      border-color: transparent;\n",
              "      border-right-color: var(--fill-color);\n",
              "      border-top-color: var(--fill-color);\n",
              "    }\n",
              "    60% {\n",
              "      border-color: transparent;\n",
              "      border-right-color: var(--fill-color);\n",
              "    }\n",
              "    80% {\n",
              "      border-color: transparent;\n",
              "      border-right-color: var(--fill-color);\n",
              "      border-bottom-color: var(--fill-color);\n",
              "    }\n",
              "    90% {\n",
              "      border-color: transparent;\n",
              "      border-bottom-color: var(--fill-color);\n",
              "    }\n",
              "  }\n",
              "</style>\n",
              "\n",
              "  <script>\n",
              "    async function quickchart(key) {\n",
              "      const quickchartButtonEl =\n",
              "        document.querySelector('#' + key + ' button');\n",
              "      quickchartButtonEl.disabled = true;  // To prevent multiple clicks.\n",
              "      quickchartButtonEl.classList.add('colab-df-spinner');\n",
              "      try {\n",
              "        const charts = await google.colab.kernel.invokeFunction(\n",
              "            'suggestCharts', [key], {});\n",
              "      } catch (error) {\n",
              "        console.error('Error during call to suggestCharts:', error);\n",
              "      }\n",
              "      quickchartButtonEl.classList.remove('colab-df-spinner');\n",
              "      quickchartButtonEl.classList.add('colab-df-quickchart-complete');\n",
              "    }\n",
              "    (() => {\n",
              "      let quickchartButtonEl =\n",
              "        document.querySelector('#df-21065edf-b209-4b38-ab02-1dfb938858cd button');\n",
              "      quickchartButtonEl.style.display =\n",
              "        google.colab.kernel.accessAllowed ? 'block' : 'none';\n",
              "    })();\n",
              "  </script>\n",
              "</div>\n",
              "\n",
              "    </div>\n",
              "  </div>\n"
            ],
            "application/vnd.google.colaboratory.intrinsic+json": {
              "type": "dataframe",
              "variable_name": "train",
              "summary": "{\n  \"name\": \"train\",\n  \"rows\": 5151,\n  \"fields\": [\n    {\n      \"column\": \"id\",\n      \"properties\": {\n        \"dtype\": \"string\",\n        \"num_unique_values\": 5151,\n        \"samples\": [\n          \"SW3118\",\n          \"SW2594\",\n          \"SW4968\"\n        ],\n        \"semantic_type\": \"\",\n        \"description\": \"\"\n      }\n    },\n    {\n      \"column\": \"content\",\n      \"properties\": {\n        \"dtype\": \"string\",\n        \"num_unique_values\": 5151,\n        \"samples\": [\n          \" SERIKALI imeipongeza Kamati ya Mazungumzo iliyofanikisha kusainiwa kwa mkataba wa ujenzi wa mradi wa kuzalisha umeme wa Mto Rufi ji kwa wakati.Kamati hiyo yenye wajumbe takribani 19 na kuongozwa na Katibu Mkuu wa Wizara ya Ujenzi, Uchukuzi na Mawasiliano, Dk Leonard Chamuriho, iliundwa na Rais John Magufuli kwa kushirikiana na Wizara ya Nishati.Wakati akizungumza kwenye hafla ya utiaji saini wa mkataba huo juzi Ikulu jijini Dar es Salaam, Rais Magufuli aliipongeza kamati hiyo kwa kufanikisha mazungumzo hayo kati ya Tanzania na ujumbe wa kutoka Misri.Rais Magufuli alisema wakati mwingine alikuwa akipigiwa simu na kamati hiyo ya Dk Chamuriho saa nane usiku, lakini pia wakati mwingine wajumbe wa kamati walilazimika kufanya kazi usiku kucha kwa ajili ya kufanikisha mazungumzo hayo, ambayo yalisaidia kusainiwa kwa mkataba huo juzi.\\u201cDk Chamuriho hatoki Wizara ya Nishati, yeye ni Katibu Mkuu wa Wizara ya Ujenzi, Uchukuzi na Mawasiliano; ameiongoza Kamati hii vizuri kwenye mazungumzo na wenzetu wa Misri, lakini pia ndiye aliyeongoza Kamati za Mazungumzo za Mradi wa Reli ya Kisasa (SGR) na manunuzi ya ndege,\\u201d alieleza Rais Magufuli.Kutokana na utendaji huo mzuri wa kamati, Rais Magufuli aliendelea kuwataka Watanzania kushikamana katika kujenga uchumi wa nchi yao, hata kama wakati mwingine miradi kama hiyo inapigwa vita.Alisema Wamisri ni watu wanaojituma katika kuleta maendeleo ya taifa lao, kwa kuwa miradi mingi ya maendeleo nchini mwao imetekelezwa na wao wenyewe. Aliwataka Watanzania kufanya kazi kwa bidii, kwa kuwa endapo miradi kama hiyo inakwama, maana yake ni maendeleo ya Watanzania yamekwama.Kutokana na kazi nzuri iliyofanywa na Kamati hiyo iliyoongozwa na Dk Chamuriho, Rais Magufuli aliagiza wajumbe wote wa kamati hiyo ambao muda wao wa kustaafu ulikuwa umefika, wasistaafu, bali waendelee na kazi mpaka ujenzi wa mradi huo utakapokamilika katika kipindi cha miaka mitatu na nusu ijayo.Mbali ya Dk Chamuriho, wajumbe wengine ni Mkurugenzi Mtendaji wa Shirika la Umeme Tanzania (Tanesco), Dk Tito Mwinuka, wengine pia wanatoka Tanesco, Hazina, na wanasheria. Imeelezwa kuwa kukamilika kwa mradi huo, kutachochea ukuaji wa sekta ya viwanda, sekta ya usafirishaji hususani uendeshaji wa reli ya kisasa itakayotumia umeme na ukuaji wa uchumi.Jaji Mkuu wa Tanzania, Profesa Ibrahim Juma alisema kutekeleza ujenzi wa mradi huo, Serikali ya Awamu ya Tano chini ya Rais Magufuli, inatimiza ndoto ya Baba wa Taifa, Mwalimu Julius Nyerere.Alisema ndoto hiyo ya Mwalimu lazima iendelezwa na Watanzania wote. Lakini, pia alimpongeza Waziri wa Nishati, Dk Medard Kalemani kwa kuielewa ndoto hiyo vizuri kutokana na namna alivyouelezea mradi huo wa kuzalisha umeme wa Mto Rufiji, ambao utabadilisha maisha ya Watanzania utakapokamilika.\",\n          \" MAKUBALIANO ya kimataifa yakiwemo yanayotaka Serikali kutoa kipaumbele kwa sekta kadhaa kwa kutenga kiwango fulani katika bajeti, yamebainika ni vigumu kutekelezwa ipasavyo kutokana na uhaba wa fedha zinazopaswa kugawanywa.Serikali imekiri kuhusu hilo ikisema kazi inayotakiwa kufanyika, ni kujielekeza kuwezesha ukusanyaji na kupata mapato zaidi ili vipaumbele vya kisekta na kitaifa viwekwe vizuri; vinginevyo nchi ikitekeleza maazimio kama inavyotakiwa, baadhi ya sekta zinaweza kukosa fedha.Miongoni mwa makubaliano ambayo serikali kupitia kwa Waziri wa Fedha na Mipango, Dk Philip Mpango imekiri kwamba mbele ya safari inabidi kujipanga vizuri kabla ya kuyatekeleza, ni pamoja na Azimio la Sadc linalotaka serikali itenge asilimia 20 ya bajeti yote kwa ajili ya elimu.\\u201cHuko mbele tukifika, lazima tutapanga vizuri badala ya kusema tutatekeleza haya maazimio,\\u201d alisema Waziri Mpango wakati akijibu hoja za wabunge zinazohusu masuala ya fedha wakati wakichangia bajeti ya Wizara ya Elimu, Sayansi na Teknolojia iliyopitishwa hivi karibuni.Katika maoni, mapendekezo na ushauri wa wabunge 116 waliochangia bajeti hiyo, baadhi yao walitaka serikali kuheshimu makubaliano ya kimataifa ikiwamo azimio hilo la SADC.Ingawa Dk Mpango alikiri kuwa serikali inapaswa kuyaheshimu, alisema licha ya azimio hilo la kutaka itengwe asilimia 20 ya bajeti yote kwa ajili ya elimu, yapo mengine yanayoelekeza utengaji wa sehemu ya bajeti kwa ajili ya sekta kadhaa.\\u201cNi kweli; lakini yapo maazimio mengine ambayo Tanzania imekubali,\\u201d alisema Waziri Mpango na kutaja Azimio la Maputo sambamba na sekta na kiwango cha fedha kinachopaswa kutengwa kwenye bajeti.Kwa mujibu wa Dk Mpango, azimio hilo linataka serikali kutenga asilimia 10 ya bajeti yote kwa ajili ya kilimo; afya asilimia 15 ya bajeti yote; utafiti asilimia moja ya pato la taifa na asilimia 0.05 ya bajeti kwa ajili ya takwimu.\\u201cSasa kama maazimio yote haya yatatekelezwa, sekta tatu tu zitachukua asilimia 45 ya bajeti yote. Sasa kipi kitasalia kwa ajili ya miundombinu, ulinzi na usalama, maji na bajeti ya bunge?\\u201d alisema Waziri Mpango.Waziri alisema ni muhimu wabunge wakazingatia kwamba pia sekta nyingine ni muhimu kwa maendeleo ya elimu.Alitoa mfano wa bajeti ya ulinzi na usalama kwamba ni muhimu kwani vijana walioko shuleni watasoma wakiwa wamehakikishiwa ulinzi na usalama.Vivyo hivyo kwa upande wa bajeti ya afya, maji, miundombinu ya umeme na teknolojia ya habari na mawasiliano. \\u201cNi muhimu tuangalie mambo yote hayo, alisema na kusisitiza kwamba kikubwa ni ukubwa wa \\u2018keki\\u2019\\u201d.Alisema kazi inayotakiwa kufanyika ni kujielekeza kupata mapato zaidi ili vipaumbele vya kisekta na kitaifa viwekewe vizuri. Bunge linaendelea na mkutano wake wa bajeti jijini Dodoma ambako wizara kadhaa zimeshapitishiwa bajeti zake kwa mwaka 2019/20. Miongoni mwake ni Wizara ya Elimu, Sayansi na Teknolojia ambayo wabunge waliidhinisha na kupitisha bajeti ya Sh trilioni 1.3 kwa mwaka wa fedha 2019/20.Mwaka huu unaokaribia kumalizika (2018/19), wizara hii ilitengewa Sh trilioni 1.4 kiasi ambacho kwa kulinganisha na bajeti ijayo, wabunge walitafsiri kuwa bajeti ya elimu imeshuka.Akizungumzia tafsiri kwamba bajeti ya elimu imeshuka na kwamba bajeti ya maendeleo imekuwa na mserereko wa kupungua, Dk Mpango alisema kwa kuangalia takwimu, ni kweli.Alisema, \\u201cukiangalia takwimu, zinaonesha bajeti inapungua katika kutoka asilimia 17 ya bajeti yote 2015/16; asilimia 16 mwaka 2016/17 asilimia 15 mwaka 2017/18 asilimia 14 mwaka 2018/19 na asilimia 14 ya mwaka ujao wa fedha.\\u201cHata hivyo, si kweli kwamba bajeti ya maendeleo imekuwa na mserereko wa kupungua. Ukiunganisha hizi namba unaona kilichopungua ni bajeti ya matumizi ya kawaida na inapungua kwa miaka miwili iliyopita,\\u201d anasema.Anaainisha mwaka 2015/16 bajeti ilikuwa Sh bilioni 3.2 ikaongezeka hadi Sh bilioni 3.7 kwa mwaka 2016/17. Mwaka 2017/18 ndipo ilishuka kidogo hadi Sh bilioni 3.5 na mwaka huu ni Sh bilioni 3.4 huku kwa mwaka ujao (2019/20) ikishuka hadi Sh bilioni 3.1.Hata hivyo, alisema hali hiyo inatokana na hatua ambazo serikali ilichukua ikiwamo kuondoa watumishi hewa kutoka katika sekta ya elimu na pia uundaji mpya uliofanyika katika taasisi mbalimbali na kuondoa baadhi ya watumishi kutoka kwenye taasisi mbalimbali za wizara.Waziri alisema ni muhimu wabunge wakatambua mchango mkubwa wa wadau wengine wa elimu nchini na hususani wamiliki wa shule binafsi lakini pia taasisi za dini.\",\n          \" DAKTARI wa Hospitali ya Taifa Muhimbili (MNH), Dar es Salaam Idara ya Huduma za Dharura, Deus Kitapondya amesema ni vyema ukafanyika utafiti ili kubaini kiwango cha ya madhara kiafya na kisaikolojia yanayowapata wasafiri wa mabasi ya mwendokasi jijini Dar es Salaam kutokana na mbanano ndani ya mabasi hayo.Dk Kitapondya alitoa kauli hiyo baada ya mwandishi kutaka kujua kama katika kazi zake za utabibu aliwahi kukutana na wagonjwa walioumia kutokana na tatizo hilo.Pamoja na kukiri kuwahi kuwatibu wagonjwa wanne akiwemo mwandishi wa habari wa gazeti hili, Matern Kayera walioumia kutokana na kubanana ndani ya mabasi hayo, daktari huyo alisema japo hajafanya utafiti, lakini anaamini hali hiyo inawasababishia watumiaji wengi wa mabasi hayo matatizo ya kisaikolojia ikiwemo kukosa amani na utulivu wa kiakili wanapoamua kusafiri nayo.Kwa mujibu wa daktari huyo, msongamano wa abiria ni kigezo tosha cha kuwafanya watu kuwa na hofu ya namna ya kupanda au kushuka kwenye mabasi hayo kutokana na kusukumana au kubanana hali inayowaondolea utulivu na kuwafanya wakose amani moyoni, hivyo kuna kila umuhimu kwa utafiti kufanyika kubaini kiwango cha madhara ya kiafya na kisaikolojia wanayowapata watumiaji wa usafiri huo.Kwa kuwa msongamano huo hutokea zaidi nyakati za asubuhi watu wanapowahi kwenye shughuli zao au jioni wanaporudi majumbani, hivyo baadhi yao huathirika kisaikolojia kutokana na kuwaza kama wataweza kupanda au kushuka kwa urahisi, kubanana, kukosa kiti, kuchelewa kazini au majumbani, shuleni au kwenye shughuli zao mbalimbali pamoja na mwili kuchoka.\\u201cUmeibua hoja ya msingi, nadhani kuna haja ya utafiti kufanyika ili kubaini kiwango cha madhara ya kisaikolojia na kimwili ambayo watu wanayapata kutokana na kutumia usafiri wa mabasi ya mwendokasi,\\u201d alisema Dk Kitapondya.Mbali na madhara ya kisaikolojia, mtaalamu huyo wa afya alisema alishawahi kuwatibu wagonjwa wanne walioumia kutokana na msongamano ndani ya mabasi hayo.\"\n        ],\n        \"semantic_type\": \"\",\n        \"description\": \"\"\n      }\n    },\n    {\n      \"column\": \"category\",\n      \"properties\": {\n        \"dtype\": \"category\",\n        \"num_unique_values\": 5,\n        \"samples\": [\n          \"Biashara\",\n          \"Burudani\",\n          \"michezo\"\n        ],\n        \"semantic_type\": \"\",\n        \"description\": \"\"\n      }\n    }\n  ]\n}"
            }
          },
          "metadata": {},
          "execution_count": 38
        }
      ],
      "source": [
        "# show top five rows of train data\n",
        "train.head()"
      ]
    },
    {
      "cell_type": "code",
      "execution_count": null,
      "metadata": {
        "colab": {
          "base_uri": "https://localhost:8080/",
          "height": 206
        },
        "id": "fzI63VFhnwtK",
        "outputId": "9370a860-e9de-4943-9118-38cc404475a6"
      },
      "outputs": [
        {
          "output_type": "execute_result",
          "data": {
            "text/plain": [
              "                                 swahili_id  \\\n",
              "0  ae3baa6c34aa523fd2aa4de3c89448efff922311   \n",
              "1  c4ee26a3ade8064a2ec494996e836900fd32dd8e   \n",
              "2  58aee3aa1d94554ff57e6a053dbd60658e4890ff   \n",
              "3  00579c2307b5c11003d21c40c3ecff5e922c3fd8   \n",
              "4  c83e9738ae5d1790ee85b99863deb734e7614c52   \n",
              "\n",
              "                                             content  \n",
              "0   Rais John Magufuli amemuagiza Msajili wa Hazi...  \n",
              "1   TAHARUKI imezuka katika mkutano wa Naibu Wazi...  \n",
              "2   KOCHA wa Azam FC ya Dar es Salaam, Idd Cheche...  \n",
              "3   THAMANI ya mauzo ya bidhaa za Afrika Masharik...  \n",
              "4   WAZIRI wa Nchi, Ofi si ya Makamu wa Rais, Muu...  "
            ],
            "text/html": [
              "\n",
              "  <div id=\"df-8e33f75c-67c1-4c3a-8260-6ef8a3990280\" class=\"colab-df-container\">\n",
              "    <div>\n",
              "<style scoped>\n",
              "    .dataframe tbody tr th:only-of-type {\n",
              "        vertical-align: middle;\n",
              "    }\n",
              "\n",
              "    .dataframe tbody tr th {\n",
              "        vertical-align: top;\n",
              "    }\n",
              "\n",
              "    .dataframe thead th {\n",
              "        text-align: right;\n",
              "    }\n",
              "</style>\n",
              "<table border=\"1\" class=\"dataframe\">\n",
              "  <thead>\n",
              "    <tr style=\"text-align: right;\">\n",
              "      <th></th>\n",
              "      <th>swahili_id</th>\n",
              "      <th>content</th>\n",
              "    </tr>\n",
              "  </thead>\n",
              "  <tbody>\n",
              "    <tr>\n",
              "      <th>0</th>\n",
              "      <td>ae3baa6c34aa523fd2aa4de3c89448efff922311</td>\n",
              "      <td>Rais John Magufuli amemuagiza Msajili wa Hazi...</td>\n",
              "    </tr>\n",
              "    <tr>\n",
              "      <th>1</th>\n",
              "      <td>c4ee26a3ade8064a2ec494996e836900fd32dd8e</td>\n",
              "      <td>TAHARUKI imezuka katika mkutano wa Naibu Wazi...</td>\n",
              "    </tr>\n",
              "    <tr>\n",
              "      <th>2</th>\n",
              "      <td>58aee3aa1d94554ff57e6a053dbd60658e4890ff</td>\n",
              "      <td>KOCHA wa Azam FC ya Dar es Salaam, Idd Cheche...</td>\n",
              "    </tr>\n",
              "    <tr>\n",
              "      <th>3</th>\n",
              "      <td>00579c2307b5c11003d21c40c3ecff5e922c3fd8</td>\n",
              "      <td>THAMANI ya mauzo ya bidhaa za Afrika Masharik...</td>\n",
              "    </tr>\n",
              "    <tr>\n",
              "      <th>4</th>\n",
              "      <td>c83e9738ae5d1790ee85b99863deb734e7614c52</td>\n",
              "      <td>WAZIRI wa Nchi, Ofi si ya Makamu wa Rais, Muu...</td>\n",
              "    </tr>\n",
              "  </tbody>\n",
              "</table>\n",
              "</div>\n",
              "    <div class=\"colab-df-buttons\">\n",
              "\n",
              "  <div class=\"colab-df-container\">\n",
              "    <button class=\"colab-df-convert\" onclick=\"convertToInteractive('df-8e33f75c-67c1-4c3a-8260-6ef8a3990280')\"\n",
              "            title=\"Convert this dataframe to an interactive table.\"\n",
              "            style=\"display:none;\">\n",
              "\n",
              "  <svg xmlns=\"http://www.w3.org/2000/svg\" height=\"24px\" viewBox=\"0 -960 960 960\">\n",
              "    <path d=\"M120-120v-720h720v720H120Zm60-500h600v-160H180v160Zm220 220h160v-160H400v160Zm0 220h160v-160H400v160ZM180-400h160v-160H180v160Zm440 0h160v-160H620v160ZM180-180h160v-160H180v160Zm440 0h160v-160H620v160Z\"/>\n",
              "  </svg>\n",
              "    </button>\n",
              "\n",
              "  <style>\n",
              "    .colab-df-container {\n",
              "      display:flex;\n",
              "      gap: 12px;\n",
              "    }\n",
              "\n",
              "    .colab-df-convert {\n",
              "      background-color: #E8F0FE;\n",
              "      border: none;\n",
              "      border-radius: 50%;\n",
              "      cursor: pointer;\n",
              "      display: none;\n",
              "      fill: #1967D2;\n",
              "      height: 32px;\n",
              "      padding: 0 0 0 0;\n",
              "      width: 32px;\n",
              "    }\n",
              "\n",
              "    .colab-df-convert:hover {\n",
              "      background-color: #E2EBFA;\n",
              "      box-shadow: 0px 1px 2px rgba(60, 64, 67, 0.3), 0px 1px 3px 1px rgba(60, 64, 67, 0.15);\n",
              "      fill: #174EA6;\n",
              "    }\n",
              "\n",
              "    .colab-df-buttons div {\n",
              "      margin-bottom: 4px;\n",
              "    }\n",
              "\n",
              "    [theme=dark] .colab-df-convert {\n",
              "      background-color: #3B4455;\n",
              "      fill: #D2E3FC;\n",
              "    }\n",
              "\n",
              "    [theme=dark] .colab-df-convert:hover {\n",
              "      background-color: #434B5C;\n",
              "      box-shadow: 0px 1px 3px 1px rgba(0, 0, 0, 0.15);\n",
              "      filter: drop-shadow(0px 1px 2px rgba(0, 0, 0, 0.3));\n",
              "      fill: #FFFFFF;\n",
              "    }\n",
              "  </style>\n",
              "\n",
              "    <script>\n",
              "      const buttonEl =\n",
              "        document.querySelector('#df-8e33f75c-67c1-4c3a-8260-6ef8a3990280 button.colab-df-convert');\n",
              "      buttonEl.style.display =\n",
              "        google.colab.kernel.accessAllowed ? 'block' : 'none';\n",
              "\n",
              "      async function convertToInteractive(key) {\n",
              "        const element = document.querySelector('#df-8e33f75c-67c1-4c3a-8260-6ef8a3990280');\n",
              "        const dataTable =\n",
              "          await google.colab.kernel.invokeFunction('convertToInteractive',\n",
              "                                                    [key], {});\n",
              "        if (!dataTable) return;\n",
              "\n",
              "        const docLinkHtml = 'Like what you see? Visit the ' +\n",
              "          '<a target=\"_blank\" href=https://colab.research.google.com/notebooks/data_table.ipynb>data table notebook</a>'\n",
              "          + ' to learn more about interactive tables.';\n",
              "        element.innerHTML = '';\n",
              "        dataTable['output_type'] = 'display_data';\n",
              "        await google.colab.output.renderOutput(dataTable, element);\n",
              "        const docLink = document.createElement('div');\n",
              "        docLink.innerHTML = docLinkHtml;\n",
              "        element.appendChild(docLink);\n",
              "      }\n",
              "    </script>\n",
              "  </div>\n",
              "\n",
              "\n",
              "<div id=\"df-69a801ea-33eb-4662-a4c7-b87aabb9683f\">\n",
              "  <button class=\"colab-df-quickchart\" onclick=\"quickchart('df-69a801ea-33eb-4662-a4c7-b87aabb9683f')\"\n",
              "            title=\"Suggest charts\"\n",
              "            style=\"display:none;\">\n",
              "\n",
              "<svg xmlns=\"http://www.w3.org/2000/svg\" height=\"24px\"viewBox=\"0 0 24 24\"\n",
              "     width=\"24px\">\n",
              "    <g>\n",
              "        <path d=\"M19 3H5c-1.1 0-2 .9-2 2v14c0 1.1.9 2 2 2h14c1.1 0 2-.9 2-2V5c0-1.1-.9-2-2-2zM9 17H7v-7h2v7zm4 0h-2V7h2v10zm4 0h-2v-4h2v4z\"/>\n",
              "    </g>\n",
              "</svg>\n",
              "  </button>\n",
              "\n",
              "<style>\n",
              "  .colab-df-quickchart {\n",
              "      --bg-color: #E8F0FE;\n",
              "      --fill-color: #1967D2;\n",
              "      --hover-bg-color: #E2EBFA;\n",
              "      --hover-fill-color: #174EA6;\n",
              "      --disabled-fill-color: #AAA;\n",
              "      --disabled-bg-color: #DDD;\n",
              "  }\n",
              "\n",
              "  [theme=dark] .colab-df-quickchart {\n",
              "      --bg-color: #3B4455;\n",
              "      --fill-color: #D2E3FC;\n",
              "      --hover-bg-color: #434B5C;\n",
              "      --hover-fill-color: #FFFFFF;\n",
              "      --disabled-bg-color: #3B4455;\n",
              "      --disabled-fill-color: #666;\n",
              "  }\n",
              "\n",
              "  .colab-df-quickchart {\n",
              "    background-color: var(--bg-color);\n",
              "    border: none;\n",
              "    border-radius: 50%;\n",
              "    cursor: pointer;\n",
              "    display: none;\n",
              "    fill: var(--fill-color);\n",
              "    height: 32px;\n",
              "    padding: 0;\n",
              "    width: 32px;\n",
              "  }\n",
              "\n",
              "  .colab-df-quickchart:hover {\n",
              "    background-color: var(--hover-bg-color);\n",
              "    box-shadow: 0 1px 2px rgba(60, 64, 67, 0.3), 0 1px 3px 1px rgba(60, 64, 67, 0.15);\n",
              "    fill: var(--button-hover-fill-color);\n",
              "  }\n",
              "\n",
              "  .colab-df-quickchart-complete:disabled,\n",
              "  .colab-df-quickchart-complete:disabled:hover {\n",
              "    background-color: var(--disabled-bg-color);\n",
              "    fill: var(--disabled-fill-color);\n",
              "    box-shadow: none;\n",
              "  }\n",
              "\n",
              "  .colab-df-spinner {\n",
              "    border: 2px solid var(--fill-color);\n",
              "    border-color: transparent;\n",
              "    border-bottom-color: var(--fill-color);\n",
              "    animation:\n",
              "      spin 1s steps(1) infinite;\n",
              "  }\n",
              "\n",
              "  @keyframes spin {\n",
              "    0% {\n",
              "      border-color: transparent;\n",
              "      border-bottom-color: var(--fill-color);\n",
              "      border-left-color: var(--fill-color);\n",
              "    }\n",
              "    20% {\n",
              "      border-color: transparent;\n",
              "      border-left-color: var(--fill-color);\n",
              "      border-top-color: var(--fill-color);\n",
              "    }\n",
              "    30% {\n",
              "      border-color: transparent;\n",
              "      border-left-color: var(--fill-color);\n",
              "      border-top-color: var(--fill-color);\n",
              "      border-right-color: var(--fill-color);\n",
              "    }\n",
              "    40% {\n",
              "      border-color: transparent;\n",
              "      border-right-color: var(--fill-color);\n",
              "      border-top-color: var(--fill-color);\n",
              "    }\n",
              "    60% {\n",
              "      border-color: transparent;\n",
              "      border-right-color: var(--fill-color);\n",
              "    }\n",
              "    80% {\n",
              "      border-color: transparent;\n",
              "      border-right-color: var(--fill-color);\n",
              "      border-bottom-color: var(--fill-color);\n",
              "    }\n",
              "    90% {\n",
              "      border-color: transparent;\n",
              "      border-bottom-color: var(--fill-color);\n",
              "    }\n",
              "  }\n",
              "</style>\n",
              "\n",
              "  <script>\n",
              "    async function quickchart(key) {\n",
              "      const quickchartButtonEl =\n",
              "        document.querySelector('#' + key + ' button');\n",
              "      quickchartButtonEl.disabled = true;  // To prevent multiple clicks.\n",
              "      quickchartButtonEl.classList.add('colab-df-spinner');\n",
              "      try {\n",
              "        const charts = await google.colab.kernel.invokeFunction(\n",
              "            'suggestCharts', [key], {});\n",
              "      } catch (error) {\n",
              "        console.error('Error during call to suggestCharts:', error);\n",
              "      }\n",
              "      quickchartButtonEl.classList.remove('colab-df-spinner');\n",
              "      quickchartButtonEl.classList.add('colab-df-quickchart-complete');\n",
              "    }\n",
              "    (() => {\n",
              "      let quickchartButtonEl =\n",
              "        document.querySelector('#df-69a801ea-33eb-4662-a4c7-b87aabb9683f button');\n",
              "      quickchartButtonEl.style.display =\n",
              "        google.colab.kernel.accessAllowed ? 'block' : 'none';\n",
              "    })();\n",
              "  </script>\n",
              "</div>\n",
              "\n",
              "    </div>\n",
              "  </div>\n"
            ],
            "application/vnd.google.colaboratory.intrinsic+json": {
              "type": "dataframe",
              "variable_name": "test",
              "summary": "{\n  \"name\": \"test\",\n  \"rows\": 1030,\n  \"fields\": [\n    {\n      \"column\": \"swahili_id\",\n      \"properties\": {\n        \"dtype\": \"string\",\n        \"num_unique_values\": 1030,\n        \"samples\": [\n          \"7df19dbbe38fc64abb38dbf77823f33eff95a0ff\",\n          \"48ed17ea7e5054a02febfc7c5ab01ea3963d49f3\",\n          \"398a4144007d77ecf3ec1c1deebee3b6f4cea7e1\"\n        ],\n        \"semantic_type\": \"\",\n        \"description\": \"\"\n      }\n    },\n    {\n      \"column\": \"content\",\n      \"properties\": {\n        \"dtype\": \"string\",\n        \"num_unique_values\": 1030,\n        \"samples\": [\n          \" YANGA ya Tanzania Bara, Gor Mahia ya Kenya na KCCA ya Uganda ndizo klabu kutoka Jumuiya ya Afrika Mashariki zilizotinga kucheza raundi ya kwanza ya michuano ya Ligi ya Mabingwa Afrika baada ya kupata ushindi wa jumla katika mechi zao.Mbali na Yanga, Simba ilikuwa timu nyingine ya Tanzania katika michuano hiyo ya Ligi ya Mabingwa wa Afrika, lakini imejikuta ikitupwa nje kwa faida ya bao la ugenini baada ya kutoka sare ya bila kufungana na baadae 1-1 dhidi ya UD do Songo ya Msumbiji.Yanga wameungana na mabingwa wa Kenya kuibeba Afrika Mashariki baada ya kuibuka na ushindi wa bao 1-0 dhidi ya Township Rollers ya Bostwana katika mchezo wa marudiano wa awali wa Ligi ya Mabingwa wa Afrika.Timu hizo zilitoka sare ya 1-1 kwenye Uwanja wa Taifa jijini Dar es Salaam. Yanga iliivuka baada ya kupata ushindi wa jumla wa mabao 2-1 na sasa itacheza dhidi ya Zesco ya Zambia katika mchezo wa raundi ya kwanza ya michuano hiyo na kama itatolewa, basi itaangukia katika michuano ya Kombe la Shirikisho Afrika.Kwa upande wa Gor Mahia, wenyewe wametinga raundi ya kwanza ya michuano hiyo baada ya kupata ushindi wa jumla ya mabao 5-1 dhidi ya Aigle Noir ya Burundi. Timu hizo zilitoka sare katika mchezo wa kwanza uliofanyika Bujumbura, Burundi wiki mbili zilizopita.Gor Mahia sasa itakutana na USM Alger ya Algeria baada ya timu hiyo ya Algeria kuifungisha virago AS Sonidep FC ya Niger kwa jumla ya mabao 5-2, Wawakilishi wa Uganda katika michuano hiyo, Kampala City Council (KCCA), wenyewe wamevuka baada ya kupata ushindi wa jumla wa mabao 4-3 dhidi ya African Stars ya Namibia huku KCCA wakishinda nyumbani 2-0 baada ya kufunghwa Nambia 3-2.TIMU ZILIZOTOLEWASimba ambayo msimu uliopita iliibeba Afrika Mashariki baada ya kuwa timu pekee iliyofika hatua ya robo fainali katika nchi za Afrika Mashariki, lakini msimu huu imetoka kinyonge baada ya kutolewa na UD do Songo kwa bao la ugenini.Timu hiyo ilitoka sare ya kutofungana katika mchezo uliofanyika Beira, Msumbiji wiki mbili zilizopita kabla ya juzi Jumapili kutoka sare ya 1-1 katika mchezo uliofanyika kwenye Uwanja wa Taifa jijini Dar es Salaam na hivyo kutolewa kwa faida ya bao la ugenini. Timu ya Rwanda ya Rayon Sports imejikuta ikitupwa nje ya michuano ya Ligi ya Mabingwa wa Afrika licha ya kutoka sare ya bila kufungana na baadae 1-1 dhidi ya Al Hilal ya Sudan. Rayon ililazimishwa sare 1-1 nyumbani kabla ya kutoka suluhu ugenini, hivyo imetolewa kwa faida ya bao la ugenini.KOMBE LA SHIRIKISHOKwa upande wa Kombe la Shirikisho Afrika, wawakilishi wa Tanzania, Azam FC wenyewe wamekata tiketi ya kucheza raundi ya kwanza baada ya kupindua meza kibabe kwa ushindi wa mabao 3-1 dhidi ya Fasil Kenema katika mchezo wa marudiano kwenye Uwanja wa Azam Complex jijini Dar es Salaam.Azam FC walifungwa bao 1-0 katika mchezo wa mwanzo uliofanyika nchini Ethiopia kabla ya kupindua meza kibabe, Bandari ya Mombasa, Kenya walisonga mbele kwa faida ya bao la ugenini baada ya kutoka sare ya 1-1 na Al Ahli Shendy ya Sudan huku Proline FC ya Uganda ilisonga mbele baada ya kuifunga Malawi Masters Security Service ya Malawi kwa jumla ya mabao 3-0.Proline ilishinda 3-0 Uganda kabla ya kulazimishwa suluhu katika mchezo uliofanyika Malawi. Wawakilishi wa Burundi katika michuano ya Kombe la Shirikisho Afrika, Rkinzo FC walijikuta wakiangukia pua baada ya kuchapwa 5-0 na Triangle United ya Zimbabwe katika mchezo uliofanyika ugenini, Katika mchezo wa awali uliopigwa Bujumbula, timu hizo zilitoka suluhu.Triangle sasa itacheza dhidi ya Azam FC ya Tanzania katika mchezo wa raundi ya kwanza ya michuano hiyo ya Kombe la Shirikisho Afrika. Malindi ya Zanzibar mwishoni mwa wiki yenyewe iliweka rekodi kwa timu za kisiwani humo baada ya kuifungisha virago Mogadishu City baada ya kuifunga 2-1. Katika mchezo wa kwanza, timu hizo hazikufungana.\",\n          \" BRIGHTON inaongoza mbio za klabu za Ligi Kuu kutaka kumsajili mshambuliaji wa mabingwa wa soka wa Ubelgiji, Genk na nahodha wa timu ya taifa ya Tanzania, Taifa Stars, Mbwana Samatta.Timu iliyopanda daraja ya Aston Villa, Leicester, Watford pamoja na Burnley, zote zinataka kumsajili mchezaji huyo kwa kiasi cha pauni milioni 12 (sawa na Sh bilioni 35). Samatta, mwenye umri wa miaka 26, anajua kuwa anataka kwenda kucheza soka katika Ligi Kuu ya England baada ya kufanya vizuri katika Ligi Kuu ya Ubelgiji msimu huu.Mchezaji huyo alifunga mabao 23 na kuisaidia klabu yake ya Genk kutwaa ubingwa wa Ligi Kuu ya Ubelgiji pamoja na kutwaa tuzo ya kiatu cha Ebeny, ambayo hutolewa kwa mchezaji bora wa Ubegiji kutoka Afrika.Tuzo hiyo huko nyuma imewahi kuchukuliwa na Romelu Lukaku, Vincent Kompany na Michy Batshuayi. Samatta ataiongoza Taifa Stars katika mashindano ya Mataifa ya Afrika, Afcon 2019, yatakayofanyika Misri mwezi huu, ikiwa ni mara ya kwanza kwa Tanzania kushiriki tangu ilipocheza kwa mara ya mwisho mwaka 1980.Lakini baada ya kumalizika kwa mashindano hayo, Samatta anatarajia kuondoka Genk, ambayo alijiunga nayo Januari mwaka 2016 akitokea klabu ya Jamhuri ya Kidemokrasia ya Congo ya TP Mazembe, na kwenda Ligi Kuu ya England.Brighton imekuwa ikimfuatilia Samatta kwa muda na kocha wa zamani Chris Hughton ambaye ni shabiki mkubwa, wakati Graham Potter naye pia amekuwa akimkubali mshambuliaji huyo. Lakini mchezaji huyo atakabiliana na ushindani mkali kutoka kwa wapinzani wengi wa Ligi Kuu, pamoja na klabu zingine za Ulaya, ikiwemo Roma na Lyon.\",\n          \" WATU wawili wamekufa, 57 kujeruhiwa huku wananchi 1,955 wakikosa makazi baada ya mvua kubwa ya mawe kunyesha mwanzoni mwa wiki na kuathiri nyumba 373 katika vijiji vinne wilayani Sumbawanga, mkoani Rukwa.Kati ya waliopoteza maisha kwa mvua hiyo ni mtoto wa miaka minane aliyepigwa na radi katika kijiji cha Tunko na mkazi wa kijiji cha Kipeta, Elizabeth Manamba (85) aliyeangukiwa na ukuta wa nyumba alimokuwa amelala.Akizugumza na gazeti hili kwa njia ya simu, Mkuu wa Wilaya ya Sumbawanga, Dk Halfany Haule alisema watu waliojeruhiwa 49 wanatoka vijiji vya Kilyamatundu na Kipeta na wengine wanane wakiwa ni wakazi wa kijiji cha Muze vyote vitatu viko katika Bonde la Ziwa Rukwa.Alisema majeruhi hao wametibiwa na kuruhusiwa isipokuwa Ofisa Tarafa wa Kipeta, Jacob Nkungwe na mkewe wamejeruhiwa vibaya wakiwa wamevunjika miguu ambapo wamelazwa wakiendelea na matibabu.\\u201cKaya 373 zimekosa makazi baada ya nyumba zao kubomolewa na mvua iliyonyesha saa 10 ikiambatana na upepo mkali na kuathiri vijiji vya Kipeta na Kilyamatundu iliyoathiri nyumba 336, Mpwapwa (13) na Muze 25,\\u201d alieleza.Alisema majengo ya shule ya sekondari Kipeta yenye wanafunzi wanaosoma kidato cha kwanza hadi kidato cha sita, paa zimeezuliwa. Pamoja na hayo, nyumba za wenyeviti wa vijiji hivyo vinne paa zake zimeezuliwa na mabati kupeperushwa umbali wa kilomita moja na zaidi ambapo uharibifu uliosababishwa na mvua hiyo ni mkubwa na waathirika wamepoteza kila kitu.Kaya zilizoathirika zimehifadhiwa katika majengo ya Shule ya Msingi Kipeta na ofisi za kata ..... wanahitaji makazi na chakula na msaada wa haraka. Ofisi imetoa msaada wa unga kilo 1,700 na kila kaya itapewa kilo tano.Kitengo cha Maafa Ofisi ya Waziri Mkuu kimetuma wataalamu wake wawili kufanya tathmini ya hasara iliyosababishwa na mvua. Alisema tathmnini ya awali iliyofanywa Shule ya Sekondari Kipeta imebainisha kuwa zaidi ya Sh milioni 100 zinahitajika haraka kuikarabati.Kuhusu mlipuko wa magonjwa ya kuharisha na kipindupindu alisema wakazi wa vijiji ambavyo vimefurika maji kuwa madimbwi ya maji machafu wameshatahadharishwa kutoyanywa. \\u201cTayari dawa za kutibu maji zimeshasambazwa kwa wakazi wa vijiji hivyo ili kukabiliana na mlipuko wa magonjwa ya kipindupindu\\u2026 waathirika wanahitaji msaada,\\u201d alisema.Mvua hiyo ilileta madhara makubwa katika Shule ya Sekondari Kipeta ambapo imebomoa vyumba vitano vya madarasa, ofisi ya walimu, mabweni mawili nyumba ya mwalimu na vyoo. Kamanda wa Polisi mkoa wa Rukwa, George Kyando amethibitisha tukio hilo akisema mvua iliyoambatana na upepo mkali ilianza saa tano usiku wa kuamkia jana na kudumu kwa saa 45. Akizungumzia tukio hilo, Mganga wa Kituo cha Afya Kilyamatundu, Neema Nyondo alisema usiku huo wa tukio majeruhi 36 walipokewa baadhi wakiwa wamevunjika mikono, mbavu na miguu.\"\n        ],\n        \"semantic_type\": \"\",\n        \"description\": \"\"\n      }\n    }\n  ]\n}"
            }
          },
          "metadata": {},
          "execution_count": 39
        }
      ],
      "source": [
        "# show top five rows of test data\n",
        "test.head()"
      ]
    },
    {
      "cell_type": "code",
      "source": [
        "test.shape"
      ],
      "metadata": {
        "colab": {
          "base_uri": "https://localhost:8080/"
        },
        "id": "H3rU_JB3rqiD",
        "outputId": "9666ea2f-72f6-42d3-e8e3-60538d5b04d5"
      },
      "execution_count": null,
      "outputs": [
        {
          "output_type": "execute_result",
          "data": {
            "text/plain": [
              "(1030, 2)"
            ]
          },
          "metadata": {},
          "execution_count": 40
        }
      ]
    },
    {
      "cell_type": "code",
      "execution_count": null,
      "metadata": {
        "colab": {
          "base_uri": "https://localhost:8080/"
        },
        "id": "PJzLNWp9nwtL",
        "outputId": "05bbb3d9-ebd3-433f-ae7b-55ad10803a89"
      },
      "outputs": [
        {
          "output_type": "execute_result",
          "data": {
            "text/plain": [
              "(5151, 3)"
            ]
          },
          "metadata": {},
          "execution_count": 41
        }
      ],
      "source": [
        "# check the shape of the train data\n",
        "train.shape"
      ]
    },
    {
      "cell_type": "code",
      "execution_count": null,
      "metadata": {
        "colab": {
          "base_uri": "https://localhost:8080/"
        },
        "id": "6kf1h-VdnwtL",
        "outputId": "ac733393-5d3f-484d-ee1b-a28922c30412"
      },
      "outputs": [
        {
          "output_type": "execute_result",
          "data": {
            "text/plain": [
              "(1030, 2)"
            ]
          },
          "metadata": {},
          "execution_count": 42
        }
      ],
      "source": [
        "# check the shape of the test data\n",
        "test.shape"
      ]
    },
    {
      "cell_type": "code",
      "execution_count": null,
      "metadata": {
        "colab": {
          "base_uri": "https://localhost:8080/"
        },
        "id": "1BV7f6fBnwtM",
        "outputId": "63542c70-03dd-4b21-e03e-d3b7f71d7059"
      },
      "outputs": [
        {
          "output_type": "execute_result",
          "data": {
            "text/plain": [
              "id          0\n",
              "content     0\n",
              "category    0\n",
              "dtype: int64"
            ]
          },
          "metadata": {},
          "execution_count": 43
        }
      ],
      "source": [
        "# check missing values in train data\n",
        "train.isnull().sum()"
      ]
    },
    {
      "cell_type": "code",
      "execution_count": null,
      "metadata": {
        "colab": {
          "base_uri": "https://localhost:8080/"
        },
        "id": "LO158e4enwtM",
        "outputId": "d8aa659f-b057-4675-ef9b-381da735fd79"
      },
      "outputs": [
        {
          "output_type": "execute_result",
          "data": {
            "text/plain": [
              "swahili_id    0\n",
              "content       0\n",
              "dtype: int64"
            ]
          },
          "metadata": {},
          "execution_count": 44
        }
      ],
      "source": [
        "# check missing values in test data\n",
        "test.isnull().sum()"
      ]
    },
    {
      "cell_type": "code",
      "execution_count": null,
      "metadata": {
        "colab": {
          "base_uri": "https://localhost:8080/"
        },
        "id": "UI2xelc7nwtN",
        "outputId": "46dce1be-1776-494d-c508-6a4dbf84bfab"
      },
      "outputs": [
        {
          "output_type": "execute_result",
          "data": {
            "text/plain": [
              "category\n",
              "Kitaifa      2000\n",
              "michezo      1720\n",
              "Biashara     1360\n",
              "Kimataifa      54\n",
              "Burudani       17\n",
              "Name: count, dtype: int64"
            ]
          },
          "metadata": {},
          "execution_count": 45
        }
      ],
      "source": [
        "# evalute news category distribution\n",
        "train.category.value_counts()"
      ]
    },
    {
      "cell_type": "markdown",
      "metadata": {
        "id": "YeZSeOVwnwtN"
      },
      "source": [
        "### Data Preparation"
      ]
    },
    {
      "cell_type": "code",
      "execution_count": null,
      "metadata": {
        "colab": {
          "base_uri": "https://localhost:8080/",
          "height": 206
        },
        "id": "-Mm0uNVqnwtN",
        "outputId": "2e34aeb1-938b-4e64-d463-1c8230b0eaca"
      },
      "outputs": [
        {
          "output_type": "execute_result",
          "data": {
            "text/plain": [
              "       id                                            content  category\n",
              "0     SW0   SERIKALI imesema haitakuwa tayari kuona amani...         0\n",
              "1     SW1   Mkuu wa Mkoa wa Tabora, Aggrey Mwanri amesiti...         2\n",
              "2    SW10   SERIKALI imetoa miezi sita kwa taasisi zote z...         0\n",
              "3   SW100   KAMPUNI ya mchezo wa kubahatisha ya M-bet ime...         1\n",
              "4  SW1000   WATANZANIA wamekumbushwa kusherehekea sikukuu...         0"
            ],
            "text/html": [
              "\n",
              "  <div id=\"df-7eb02d85-69b7-4624-8723-2e6a5f13ad21\" class=\"colab-df-container\">\n",
              "    <div>\n",
              "<style scoped>\n",
              "    .dataframe tbody tr th:only-of-type {\n",
              "        vertical-align: middle;\n",
              "    }\n",
              "\n",
              "    .dataframe tbody tr th {\n",
              "        vertical-align: top;\n",
              "    }\n",
              "\n",
              "    .dataframe thead th {\n",
              "        text-align: right;\n",
              "    }\n",
              "</style>\n",
              "<table border=\"1\" class=\"dataframe\">\n",
              "  <thead>\n",
              "    <tr style=\"text-align: right;\">\n",
              "      <th></th>\n",
              "      <th>id</th>\n",
              "      <th>content</th>\n",
              "      <th>category</th>\n",
              "    </tr>\n",
              "  </thead>\n",
              "  <tbody>\n",
              "    <tr>\n",
              "      <th>0</th>\n",
              "      <td>SW0</td>\n",
              "      <td>SERIKALI imesema haitakuwa tayari kuona amani...</td>\n",
              "      <td>0</td>\n",
              "    </tr>\n",
              "    <tr>\n",
              "      <th>1</th>\n",
              "      <td>SW1</td>\n",
              "      <td>Mkuu wa Mkoa wa Tabora, Aggrey Mwanri amesiti...</td>\n",
              "      <td>2</td>\n",
              "    </tr>\n",
              "    <tr>\n",
              "      <th>2</th>\n",
              "      <td>SW10</td>\n",
              "      <td>SERIKALI imetoa miezi sita kwa taasisi zote z...</td>\n",
              "      <td>0</td>\n",
              "    </tr>\n",
              "    <tr>\n",
              "      <th>3</th>\n",
              "      <td>SW100</td>\n",
              "      <td>KAMPUNI ya mchezo wa kubahatisha ya M-bet ime...</td>\n",
              "      <td>1</td>\n",
              "    </tr>\n",
              "    <tr>\n",
              "      <th>4</th>\n",
              "      <td>SW1000</td>\n",
              "      <td>WATANZANIA wamekumbushwa kusherehekea sikukuu...</td>\n",
              "      <td>0</td>\n",
              "    </tr>\n",
              "  </tbody>\n",
              "</table>\n",
              "</div>\n",
              "    <div class=\"colab-df-buttons\">\n",
              "\n",
              "  <div class=\"colab-df-container\">\n",
              "    <button class=\"colab-df-convert\" onclick=\"convertToInteractive('df-7eb02d85-69b7-4624-8723-2e6a5f13ad21')\"\n",
              "            title=\"Convert this dataframe to an interactive table.\"\n",
              "            style=\"display:none;\">\n",
              "\n",
              "  <svg xmlns=\"http://www.w3.org/2000/svg\" height=\"24px\" viewBox=\"0 -960 960 960\">\n",
              "    <path d=\"M120-120v-720h720v720H120Zm60-500h600v-160H180v160Zm220 220h160v-160H400v160Zm0 220h160v-160H400v160ZM180-400h160v-160H180v160Zm440 0h160v-160H620v160ZM180-180h160v-160H180v160Zm440 0h160v-160H620v160Z\"/>\n",
              "  </svg>\n",
              "    </button>\n",
              "\n",
              "  <style>\n",
              "    .colab-df-container {\n",
              "      display:flex;\n",
              "      gap: 12px;\n",
              "    }\n",
              "\n",
              "    .colab-df-convert {\n",
              "      background-color: #E8F0FE;\n",
              "      border: none;\n",
              "      border-radius: 50%;\n",
              "      cursor: pointer;\n",
              "      display: none;\n",
              "      fill: #1967D2;\n",
              "      height: 32px;\n",
              "      padding: 0 0 0 0;\n",
              "      width: 32px;\n",
              "    }\n",
              "\n",
              "    .colab-df-convert:hover {\n",
              "      background-color: #E2EBFA;\n",
              "      box-shadow: 0px 1px 2px rgba(60, 64, 67, 0.3), 0px 1px 3px 1px rgba(60, 64, 67, 0.15);\n",
              "      fill: #174EA6;\n",
              "    }\n",
              "\n",
              "    .colab-df-buttons div {\n",
              "      margin-bottom: 4px;\n",
              "    }\n",
              "\n",
              "    [theme=dark] .colab-df-convert {\n",
              "      background-color: #3B4455;\n",
              "      fill: #D2E3FC;\n",
              "    }\n",
              "\n",
              "    [theme=dark] .colab-df-convert:hover {\n",
              "      background-color: #434B5C;\n",
              "      box-shadow: 0px 1px 3px 1px rgba(0, 0, 0, 0.15);\n",
              "      filter: drop-shadow(0px 1px 2px rgba(0, 0, 0, 0.3));\n",
              "      fill: #FFFFFF;\n",
              "    }\n",
              "  </style>\n",
              "\n",
              "    <script>\n",
              "      const buttonEl =\n",
              "        document.querySelector('#df-7eb02d85-69b7-4624-8723-2e6a5f13ad21 button.colab-df-convert');\n",
              "      buttonEl.style.display =\n",
              "        google.colab.kernel.accessAllowed ? 'block' : 'none';\n",
              "\n",
              "      async function convertToInteractive(key) {\n",
              "        const element = document.querySelector('#df-7eb02d85-69b7-4624-8723-2e6a5f13ad21');\n",
              "        const dataTable =\n",
              "          await google.colab.kernel.invokeFunction('convertToInteractive',\n",
              "                                                    [key], {});\n",
              "        if (!dataTable) return;\n",
              "\n",
              "        const docLinkHtml = 'Like what you see? Visit the ' +\n",
              "          '<a target=\"_blank\" href=https://colab.research.google.com/notebooks/data_table.ipynb>data table notebook</a>'\n",
              "          + ' to learn more about interactive tables.';\n",
              "        element.innerHTML = '';\n",
              "        dataTable['output_type'] = 'display_data';\n",
              "        await google.colab.output.renderOutput(dataTable, element);\n",
              "        const docLink = document.createElement('div');\n",
              "        docLink.innerHTML = docLinkHtml;\n",
              "        element.appendChild(docLink);\n",
              "      }\n",
              "    </script>\n",
              "  </div>\n",
              "\n",
              "\n",
              "<div id=\"df-f16070e4-4051-4555-b16f-ff67f67bfdc6\">\n",
              "  <button class=\"colab-df-quickchart\" onclick=\"quickchart('df-f16070e4-4051-4555-b16f-ff67f67bfdc6')\"\n",
              "            title=\"Suggest charts\"\n",
              "            style=\"display:none;\">\n",
              "\n",
              "<svg xmlns=\"http://www.w3.org/2000/svg\" height=\"24px\"viewBox=\"0 0 24 24\"\n",
              "     width=\"24px\">\n",
              "    <g>\n",
              "        <path d=\"M19 3H5c-1.1 0-2 .9-2 2v14c0 1.1.9 2 2 2h14c1.1 0 2-.9 2-2V5c0-1.1-.9-2-2-2zM9 17H7v-7h2v7zm4 0h-2V7h2v10zm4 0h-2v-4h2v4z\"/>\n",
              "    </g>\n",
              "</svg>\n",
              "  </button>\n",
              "\n",
              "<style>\n",
              "  .colab-df-quickchart {\n",
              "      --bg-color: #E8F0FE;\n",
              "      --fill-color: #1967D2;\n",
              "      --hover-bg-color: #E2EBFA;\n",
              "      --hover-fill-color: #174EA6;\n",
              "      --disabled-fill-color: #AAA;\n",
              "      --disabled-bg-color: #DDD;\n",
              "  }\n",
              "\n",
              "  [theme=dark] .colab-df-quickchart {\n",
              "      --bg-color: #3B4455;\n",
              "      --fill-color: #D2E3FC;\n",
              "      --hover-bg-color: #434B5C;\n",
              "      --hover-fill-color: #FFFFFF;\n",
              "      --disabled-bg-color: #3B4455;\n",
              "      --disabled-fill-color: #666;\n",
              "  }\n",
              "\n",
              "  .colab-df-quickchart {\n",
              "    background-color: var(--bg-color);\n",
              "    border: none;\n",
              "    border-radius: 50%;\n",
              "    cursor: pointer;\n",
              "    display: none;\n",
              "    fill: var(--fill-color);\n",
              "    height: 32px;\n",
              "    padding: 0;\n",
              "    width: 32px;\n",
              "  }\n",
              "\n",
              "  .colab-df-quickchart:hover {\n",
              "    background-color: var(--hover-bg-color);\n",
              "    box-shadow: 0 1px 2px rgba(60, 64, 67, 0.3), 0 1px 3px 1px rgba(60, 64, 67, 0.15);\n",
              "    fill: var(--button-hover-fill-color);\n",
              "  }\n",
              "\n",
              "  .colab-df-quickchart-complete:disabled,\n",
              "  .colab-df-quickchart-complete:disabled:hover {\n",
              "    background-color: var(--disabled-bg-color);\n",
              "    fill: var(--disabled-fill-color);\n",
              "    box-shadow: none;\n",
              "  }\n",
              "\n",
              "  .colab-df-spinner {\n",
              "    border: 2px solid var(--fill-color);\n",
              "    border-color: transparent;\n",
              "    border-bottom-color: var(--fill-color);\n",
              "    animation:\n",
              "      spin 1s steps(1) infinite;\n",
              "  }\n",
              "\n",
              "  @keyframes spin {\n",
              "    0% {\n",
              "      border-color: transparent;\n",
              "      border-bottom-color: var(--fill-color);\n",
              "      border-left-color: var(--fill-color);\n",
              "    }\n",
              "    20% {\n",
              "      border-color: transparent;\n",
              "      border-left-color: var(--fill-color);\n",
              "      border-top-color: var(--fill-color);\n",
              "    }\n",
              "    30% {\n",
              "      border-color: transparent;\n",
              "      border-left-color: var(--fill-color);\n",
              "      border-top-color: var(--fill-color);\n",
              "      border-right-color: var(--fill-color);\n",
              "    }\n",
              "    40% {\n",
              "      border-color: transparent;\n",
              "      border-right-color: var(--fill-color);\n",
              "      border-top-color: var(--fill-color);\n",
              "    }\n",
              "    60% {\n",
              "      border-color: transparent;\n",
              "      border-right-color: var(--fill-color);\n",
              "    }\n",
              "    80% {\n",
              "      border-color: transparent;\n",
              "      border-right-color: var(--fill-color);\n",
              "      border-bottom-color: var(--fill-color);\n",
              "    }\n",
              "    90% {\n",
              "      border-color: transparent;\n",
              "      border-bottom-color: var(--fill-color);\n",
              "    }\n",
              "  }\n",
              "</style>\n",
              "\n",
              "  <script>\n",
              "    async function quickchart(key) {\n",
              "      const quickchartButtonEl =\n",
              "        document.querySelector('#' + key + ' button');\n",
              "      quickchartButtonEl.disabled = true;  // To prevent multiple clicks.\n",
              "      quickchartButtonEl.classList.add('colab-df-spinner');\n",
              "      try {\n",
              "        const charts = await google.colab.kernel.invokeFunction(\n",
              "            'suggestCharts', [key], {});\n",
              "      } catch (error) {\n",
              "        console.error('Error during call to suggestCharts:', error);\n",
              "      }\n",
              "      quickchartButtonEl.classList.remove('colab-df-spinner');\n",
              "      quickchartButtonEl.classList.add('colab-df-quickchart-complete');\n",
              "    }\n",
              "    (() => {\n",
              "      let quickchartButtonEl =\n",
              "        document.querySelector('#df-f16070e4-4051-4555-b16f-ff67f67bfdc6 button');\n",
              "      quickchartButtonEl.style.display =\n",
              "        google.colab.kernel.accessAllowed ? 'block' : 'none';\n",
              "    })();\n",
              "  </script>\n",
              "</div>\n",
              "\n",
              "    </div>\n",
              "  </div>\n"
            ],
            "application/vnd.google.colaboratory.intrinsic+json": {
              "type": "dataframe",
              "variable_name": "train",
              "summary": "{\n  \"name\": \"train\",\n  \"rows\": 5151,\n  \"fields\": [\n    {\n      \"column\": \"id\",\n      \"properties\": {\n        \"dtype\": \"string\",\n        \"num_unique_values\": 5151,\n        \"samples\": [\n          \"SW3118\",\n          \"SW2594\",\n          \"SW4968\"\n        ],\n        \"semantic_type\": \"\",\n        \"description\": \"\"\n      }\n    },\n    {\n      \"column\": \"content\",\n      \"properties\": {\n        \"dtype\": \"string\",\n        \"num_unique_values\": 5151,\n        \"samples\": [\n          \" SERIKALI imeipongeza Kamati ya Mazungumzo iliyofanikisha kusainiwa kwa mkataba wa ujenzi wa mradi wa kuzalisha umeme wa Mto Rufi ji kwa wakati.Kamati hiyo yenye wajumbe takribani 19 na kuongozwa na Katibu Mkuu wa Wizara ya Ujenzi, Uchukuzi na Mawasiliano, Dk Leonard Chamuriho, iliundwa na Rais John Magufuli kwa kushirikiana na Wizara ya Nishati.Wakati akizungumza kwenye hafla ya utiaji saini wa mkataba huo juzi Ikulu jijini Dar es Salaam, Rais Magufuli aliipongeza kamati hiyo kwa kufanikisha mazungumzo hayo kati ya Tanzania na ujumbe wa kutoka Misri.Rais Magufuli alisema wakati mwingine alikuwa akipigiwa simu na kamati hiyo ya Dk Chamuriho saa nane usiku, lakini pia wakati mwingine wajumbe wa kamati walilazimika kufanya kazi usiku kucha kwa ajili ya kufanikisha mazungumzo hayo, ambayo yalisaidia kusainiwa kwa mkataba huo juzi.\\u201cDk Chamuriho hatoki Wizara ya Nishati, yeye ni Katibu Mkuu wa Wizara ya Ujenzi, Uchukuzi na Mawasiliano; ameiongoza Kamati hii vizuri kwenye mazungumzo na wenzetu wa Misri, lakini pia ndiye aliyeongoza Kamati za Mazungumzo za Mradi wa Reli ya Kisasa (SGR) na manunuzi ya ndege,\\u201d alieleza Rais Magufuli.Kutokana na utendaji huo mzuri wa kamati, Rais Magufuli aliendelea kuwataka Watanzania kushikamana katika kujenga uchumi wa nchi yao, hata kama wakati mwingine miradi kama hiyo inapigwa vita.Alisema Wamisri ni watu wanaojituma katika kuleta maendeleo ya taifa lao, kwa kuwa miradi mingi ya maendeleo nchini mwao imetekelezwa na wao wenyewe. Aliwataka Watanzania kufanya kazi kwa bidii, kwa kuwa endapo miradi kama hiyo inakwama, maana yake ni maendeleo ya Watanzania yamekwama.Kutokana na kazi nzuri iliyofanywa na Kamati hiyo iliyoongozwa na Dk Chamuriho, Rais Magufuli aliagiza wajumbe wote wa kamati hiyo ambao muda wao wa kustaafu ulikuwa umefika, wasistaafu, bali waendelee na kazi mpaka ujenzi wa mradi huo utakapokamilika katika kipindi cha miaka mitatu na nusu ijayo.Mbali ya Dk Chamuriho, wajumbe wengine ni Mkurugenzi Mtendaji wa Shirika la Umeme Tanzania (Tanesco), Dk Tito Mwinuka, wengine pia wanatoka Tanesco, Hazina, na wanasheria. Imeelezwa kuwa kukamilika kwa mradi huo, kutachochea ukuaji wa sekta ya viwanda, sekta ya usafirishaji hususani uendeshaji wa reli ya kisasa itakayotumia umeme na ukuaji wa uchumi.Jaji Mkuu wa Tanzania, Profesa Ibrahim Juma alisema kutekeleza ujenzi wa mradi huo, Serikali ya Awamu ya Tano chini ya Rais Magufuli, inatimiza ndoto ya Baba wa Taifa, Mwalimu Julius Nyerere.Alisema ndoto hiyo ya Mwalimu lazima iendelezwa na Watanzania wote. Lakini, pia alimpongeza Waziri wa Nishati, Dk Medard Kalemani kwa kuielewa ndoto hiyo vizuri kutokana na namna alivyouelezea mradi huo wa kuzalisha umeme wa Mto Rufiji, ambao utabadilisha maisha ya Watanzania utakapokamilika.\",\n          \" MAKUBALIANO ya kimataifa yakiwemo yanayotaka Serikali kutoa kipaumbele kwa sekta kadhaa kwa kutenga kiwango fulani katika bajeti, yamebainika ni vigumu kutekelezwa ipasavyo kutokana na uhaba wa fedha zinazopaswa kugawanywa.Serikali imekiri kuhusu hilo ikisema kazi inayotakiwa kufanyika, ni kujielekeza kuwezesha ukusanyaji na kupata mapato zaidi ili vipaumbele vya kisekta na kitaifa viwekwe vizuri; vinginevyo nchi ikitekeleza maazimio kama inavyotakiwa, baadhi ya sekta zinaweza kukosa fedha.Miongoni mwa makubaliano ambayo serikali kupitia kwa Waziri wa Fedha na Mipango, Dk Philip Mpango imekiri kwamba mbele ya safari inabidi kujipanga vizuri kabla ya kuyatekeleza, ni pamoja na Azimio la Sadc linalotaka serikali itenge asilimia 20 ya bajeti yote kwa ajili ya elimu.\\u201cHuko mbele tukifika, lazima tutapanga vizuri badala ya kusema tutatekeleza haya maazimio,\\u201d alisema Waziri Mpango wakati akijibu hoja za wabunge zinazohusu masuala ya fedha wakati wakichangia bajeti ya Wizara ya Elimu, Sayansi na Teknolojia iliyopitishwa hivi karibuni.Katika maoni, mapendekezo na ushauri wa wabunge 116 waliochangia bajeti hiyo, baadhi yao walitaka serikali kuheshimu makubaliano ya kimataifa ikiwamo azimio hilo la SADC.Ingawa Dk Mpango alikiri kuwa serikali inapaswa kuyaheshimu, alisema licha ya azimio hilo la kutaka itengwe asilimia 20 ya bajeti yote kwa ajili ya elimu, yapo mengine yanayoelekeza utengaji wa sehemu ya bajeti kwa ajili ya sekta kadhaa.\\u201cNi kweli; lakini yapo maazimio mengine ambayo Tanzania imekubali,\\u201d alisema Waziri Mpango na kutaja Azimio la Maputo sambamba na sekta na kiwango cha fedha kinachopaswa kutengwa kwenye bajeti.Kwa mujibu wa Dk Mpango, azimio hilo linataka serikali kutenga asilimia 10 ya bajeti yote kwa ajili ya kilimo; afya asilimia 15 ya bajeti yote; utafiti asilimia moja ya pato la taifa na asilimia 0.05 ya bajeti kwa ajili ya takwimu.\\u201cSasa kama maazimio yote haya yatatekelezwa, sekta tatu tu zitachukua asilimia 45 ya bajeti yote. Sasa kipi kitasalia kwa ajili ya miundombinu, ulinzi na usalama, maji na bajeti ya bunge?\\u201d alisema Waziri Mpango.Waziri alisema ni muhimu wabunge wakazingatia kwamba pia sekta nyingine ni muhimu kwa maendeleo ya elimu.Alitoa mfano wa bajeti ya ulinzi na usalama kwamba ni muhimu kwani vijana walioko shuleni watasoma wakiwa wamehakikishiwa ulinzi na usalama.Vivyo hivyo kwa upande wa bajeti ya afya, maji, miundombinu ya umeme na teknolojia ya habari na mawasiliano. \\u201cNi muhimu tuangalie mambo yote hayo, alisema na kusisitiza kwamba kikubwa ni ukubwa wa \\u2018keki\\u2019\\u201d.Alisema kazi inayotakiwa kufanyika ni kujielekeza kupata mapato zaidi ili vipaumbele vya kisekta na kitaifa viwekewe vizuri. Bunge linaendelea na mkutano wake wa bajeti jijini Dodoma ambako wizara kadhaa zimeshapitishiwa bajeti zake kwa mwaka 2019/20. Miongoni mwake ni Wizara ya Elimu, Sayansi na Teknolojia ambayo wabunge waliidhinisha na kupitisha bajeti ya Sh trilioni 1.3 kwa mwaka wa fedha 2019/20.Mwaka huu unaokaribia kumalizika (2018/19), wizara hii ilitengewa Sh trilioni 1.4 kiasi ambacho kwa kulinganisha na bajeti ijayo, wabunge walitafsiri kuwa bajeti ya elimu imeshuka.Akizungumzia tafsiri kwamba bajeti ya elimu imeshuka na kwamba bajeti ya maendeleo imekuwa na mserereko wa kupungua, Dk Mpango alisema kwa kuangalia takwimu, ni kweli.Alisema, \\u201cukiangalia takwimu, zinaonesha bajeti inapungua katika kutoka asilimia 17 ya bajeti yote 2015/16; asilimia 16 mwaka 2016/17 asilimia 15 mwaka 2017/18 asilimia 14 mwaka 2018/19 na asilimia 14 ya mwaka ujao wa fedha.\\u201cHata hivyo, si kweli kwamba bajeti ya maendeleo imekuwa na mserereko wa kupungua. Ukiunganisha hizi namba unaona kilichopungua ni bajeti ya matumizi ya kawaida na inapungua kwa miaka miwili iliyopita,\\u201d anasema.Anaainisha mwaka 2015/16 bajeti ilikuwa Sh bilioni 3.2 ikaongezeka hadi Sh bilioni 3.7 kwa mwaka 2016/17. Mwaka 2017/18 ndipo ilishuka kidogo hadi Sh bilioni 3.5 na mwaka huu ni Sh bilioni 3.4 huku kwa mwaka ujao (2019/20) ikishuka hadi Sh bilioni 3.1.Hata hivyo, alisema hali hiyo inatokana na hatua ambazo serikali ilichukua ikiwamo kuondoa watumishi hewa kutoka katika sekta ya elimu na pia uundaji mpya uliofanyika katika taasisi mbalimbali na kuondoa baadhi ya watumishi kutoka kwenye taasisi mbalimbali za wizara.Waziri alisema ni muhimu wabunge wakatambua mchango mkubwa wa wadau wengine wa elimu nchini na hususani wamiliki wa shule binafsi lakini pia taasisi za dini.\",\n          \" DAKTARI wa Hospitali ya Taifa Muhimbili (MNH), Dar es Salaam Idara ya Huduma za Dharura, Deus Kitapondya amesema ni vyema ukafanyika utafiti ili kubaini kiwango cha ya madhara kiafya na kisaikolojia yanayowapata wasafiri wa mabasi ya mwendokasi jijini Dar es Salaam kutokana na mbanano ndani ya mabasi hayo.Dk Kitapondya alitoa kauli hiyo baada ya mwandishi kutaka kujua kama katika kazi zake za utabibu aliwahi kukutana na wagonjwa walioumia kutokana na tatizo hilo.Pamoja na kukiri kuwahi kuwatibu wagonjwa wanne akiwemo mwandishi wa habari wa gazeti hili, Matern Kayera walioumia kutokana na kubanana ndani ya mabasi hayo, daktari huyo alisema japo hajafanya utafiti, lakini anaamini hali hiyo inawasababishia watumiaji wengi wa mabasi hayo matatizo ya kisaikolojia ikiwemo kukosa amani na utulivu wa kiakili wanapoamua kusafiri nayo.Kwa mujibu wa daktari huyo, msongamano wa abiria ni kigezo tosha cha kuwafanya watu kuwa na hofu ya namna ya kupanda au kushuka kwenye mabasi hayo kutokana na kusukumana au kubanana hali inayowaondolea utulivu na kuwafanya wakose amani moyoni, hivyo kuna kila umuhimu kwa utafiti kufanyika kubaini kiwango cha madhara ya kiafya na kisaikolojia wanayowapata watumiaji wa usafiri huo.Kwa kuwa msongamano huo hutokea zaidi nyakati za asubuhi watu wanapowahi kwenye shughuli zao au jioni wanaporudi majumbani, hivyo baadhi yao huathirika kisaikolojia kutokana na kuwaza kama wataweza kupanda au kushuka kwa urahisi, kubanana, kukosa kiti, kuchelewa kazini au majumbani, shuleni au kwenye shughuli zao mbalimbali pamoja na mwili kuchoka.\\u201cUmeibua hoja ya msingi, nadhani kuna haja ya utafiti kufanyika ili kubaini kiwango cha madhara ya kisaikolojia na kimwili ambayo watu wanayapata kutokana na kutumia usafiri wa mabasi ya mwendokasi,\\u201d alisema Dk Kitapondya.Mbali na madhara ya kisaikolojia, mtaalamu huyo wa afya alisema alishawahi kuwatibu wagonjwa wanne walioumia kutokana na msongamano ndani ya mabasi hayo.\"\n        ],\n        \"semantic_type\": \"\",\n        \"description\": \"\"\n      }\n    },\n    {\n      \"column\": \"category\",\n      \"properties\": {\n        \"dtype\": \"number\",\n        \"std\": 0,\n        \"min\": 0,\n        \"max\": 4,\n        \"num_unique_values\": 5,\n        \"samples\": [\n          2,\n          4,\n          1\n        ],\n        \"semantic_type\": \"\",\n        \"description\": \"\"\n      }\n    }\n  ]\n}"
            }
          },
          "metadata": {},
          "execution_count": 46
        }
      ],
      "source": [
        "# a mapping dictionary that maps the category values from 0 to 5\n",
        "category_mapping = {\n",
        "\"Kitaifa\": 0,\n",
        "\"michezo\": 1,\n",
        "\"Biashara\": 2,\n",
        "\"Kimataifa\": 3,\n",
        "\"Burudani\": 4,\n",
        "}\n",
        "\n",
        "train[\"category\"] = train.category.map(category_mapping)\n",
        "\n",
        "train.head()"
      ]
    },
    {
      "cell_type": "code",
      "execution_count": null,
      "metadata": {
        "id": "voCDGH8knwtO"
      },
      "outputs": [],
      "source": [
        "# a simple function to clean text data\n",
        "#ps = nltk.PorterStemmer()\n",
        "#from nltk.tokenize import word_tokenize\n",
        "def text_cleaning(text):\n",
        "\n",
        "    # Clean the text data\n",
        "    text = re.sub(r\"[^A-Za-z0-9]\", \" \", text) # remove punctuation marks\n",
        "    text = re.sub(r'\\b\\d+(?:\\.\\d+)?\\s+', '', text) # remove numbers\n",
        "    text = re.sub(r'\\^[a-zA-Z]\\s+', ' ', text)# remove single character in a sentence.\n",
        "    text = re.sub(r'\\s+', ' ', text, flags=re.I) # Removing double spaces in the documents.\n",
        "    text = text.lower()  # set in lowercase\n",
        "    text = re.sub(r'^b\\s+', '', text) # remove the prefix\n",
        "    text =  [c for c in text if c not in stopword]  # removing all the stopwords in the sentences\n",
        "    # Remove punctuation from text\n",
        "    text = ''.join([c for c in text if c not in punctuation])\n",
        "    #text = [ps.stem(text) for text in text] # Stemming in its the original form\n",
        "    return(text)"
      ]
    },
    {
      "cell_type": "code",
      "execution_count": null,
      "metadata": {
        "id": "pKonrXNRnwtO"
      },
      "outputs": [],
      "source": [
        "#clean the train and test data\n",
        "train[\"content\"] = train[\"content\"].apply(text_cleaning)\n",
        "test[\"content\"] = test[\"content\"].apply(text_cleaning)"
      ]
    },
    {
      "cell_type": "code",
      "execution_count": null,
      "metadata": {
        "id": "RGlZ9AVQnwtP"
      },
      "outputs": [],
      "source": [
        "#split features and target from train data\n",
        "X = train[\"content\"]\n",
        "y = train.category.values"
      ]
    },
    {
      "cell_type": "code",
      "execution_count": null,
      "metadata": {
        "id": "y9UlFra2nwtP"
      },
      "outputs": [],
      "source": [
        "# Transform text data\n",
        "vectorizer = CountVectorizer(lowercase=False)\n",
        "\n",
        "vectorizer.fit(X)\n",
        "\n",
        "#transform train data\n",
        "X_transformed = vectorizer.transform(X)\n",
        "\n",
        "#transform test data\n",
        "test_transformed = vectorizer.transform(test[\"content\"])"
      ]
    },
    {
      "cell_type": "code",
      "source": [
        "X_transformed"
      ],
      "metadata": {
        "colab": {
          "base_uri": "https://localhost:8080/"
        },
        "id": "evE0ADUZbsZg",
        "outputId": "26d9f879-477d-4e54-a4f0-c17e9a2a7bbb"
      },
      "execution_count": null,
      "outputs": [
        {
          "output_type": "execute_result",
          "data": {
            "text/plain": [
              "<5151x73016 sparse matrix of type '<class 'numpy.int64'>'\n",
              "\twith 859943 stored elements in Compressed Sparse Row format>"
            ]
          },
          "metadata": {},
          "execution_count": 51
        }
      ]
    },
    {
      "cell_type": "code",
      "execution_count": null,
      "metadata": {
        "id": "EBYvbM8onwtP"
      },
      "outputs": [],
      "source": [
        "# split data into train and validate\n",
        "\n",
        "X_train, X_valid, y_train, y_valid = train_test_split(\n",
        "    X_transformed,\n",
        "    y,\n",
        "    test_size=0.20,\n",
        "    random_state=46,\n",
        "    shuffle=True,\n",
        "    stratify=y,\n",
        ")"
      ]
    },
    {
      "cell_type": "code",
      "source": [
        "# import numpy as np\n",
        "# from tensorflow.keras.preprocessing.sequence import pad_sequences\n",
        "# from sklearn.model_selection import train_test_split\n",
        "# from tensorflow.keras.models import Sequential\n",
        "# from tensorflow.keras.layers import Embedding, SpatialDropout1D, LSTM, Dense\n",
        "# from tensorflow.keras.optimizers import Adam\n",
        "# from tensorflow.keras.utils import to_categorical\n",
        "\n",
        "# # Constants\n",
        "# MAX_SEQUENCE_LENGTH = 500  # Adjust as needed\n",
        "\n",
        "# # Splitting the data\n",
        "# X_train, X_valid, y_train, y_valid = train_test_split(\n",
        "#     X_transformed,\n",
        "#     y,\n",
        "#     test_size=0.20,\n",
        "#     random_state=46,\n",
        "#     shuffle=True,\n",
        "#     stratify=y,\n",
        "# )\n",
        "\n",
        "# # Convert sparse matrix to dense matrix\n",
        "# X_train_dense = X_train.toarray()\n",
        "# X_valid_dense = X_valid.toarray()\n",
        "\n",
        "# # Pad sequences to a fixed length\n",
        "# X_train_padded = pad_sequences(X_train_dense, maxlen=MAX_SEQUENCE_LENGTH)\n",
        "# X_valid_padded = pad_sequences(X_valid_dense, maxlen=MAX_SEQUENCE_LENGTH)\n",
        "\n",
        "# # Convert labels to categorical if not already\n",
        "# y_train_cat = to_categorical(y_train)\n",
        "# y_valid_cat = to_categorical(y_valid)\n",
        "\n",
        "# # Define the model\n",
        "# model = Sequential()\n",
        "# model.add(Embedding(input_dim=5000, output_dim=128, input_length=MAX_SEQUENCE_LENGTH))\n",
        "# model.add(SpatialDropout1D(0.2))\n",
        "# model.add(LSTM(100))  # CuDNN-compatible LSTM\n",
        "# model.add(Dense(len(np.unique(y)), activation='softmax'))\n",
        "\n",
        "# # Compile the model\n",
        "# model.compile(loss='categorical_crossentropy', optimizer='adam', metrics=['accuracy'])\n",
        "\n",
        "# # Print the model summary\n",
        "# print(model.summary())\n",
        "\n",
        "# # Train the model\n",
        "# history = model.fit(\n",
        "#     X_train_padded,\n",
        "#     y_train_cat,\n",
        "#     epochs=10,\n",
        "#     batch_size=32,  # Reduce batch size\n",
        "#     validation_data=(X_valid_padded, y_valid_cat),\n",
        "#     verbose=1\n",
        "# )\n",
        "\n",
        "# # Evaluate the model\n",
        "# loss, accuracy = model.evaluate(X_valid_padded, y_valid_cat, verbose=0)\n",
        "# print(f'Validation Accuracy: {accuracy:.4f}')\n"
      ],
      "metadata": {
        "id": "yhdfEZlkgLb0"
      },
      "execution_count": null,
      "outputs": []
    },
    {
      "cell_type": "markdown",
      "metadata": {
        "id": "Lk0FQAfwnwtP"
      },
      "source": [
        "### Create Classifier"
      ]
    },
    {
      "cell_type": "code",
      "execution_count": null,
      "metadata": {
        "id": "gOISYe_0nwtP"
      },
      "outputs": [],
      "source": [
        "# Create a classifier\n",
        "import xgboost as xgb\n",
        "from xgboost import XGBClassifier\n",
        "\n",
        "# Initialize the XGBoost classifier\n",
        "news_classifier = XGBClassifier()\n"
      ]
    },
    {
      "cell_type": "code",
      "execution_count": null,
      "metadata": {
        "id": "mTsDBX4lnwtQ"
      },
      "outputs": [],
      "source": [
        "# train the news_classifier\n",
        "news_classifier.fit(X_train,y_train)"
      ]
    },
    {
      "cell_type": "code",
      "execution_count": null,
      "metadata": {
        "id": "ApRnsYQXnwtQ"
      },
      "outputs": [],
      "source": [
        "# test model performance on valid data\n",
        "y_probas = news_classifier.predict_proba(X_valid)"
      ]
    },
    {
      "cell_type": "code",
      "execution_count": null,
      "metadata": {
        "id": "OBm2fGIlnwtQ"
      },
      "outputs": [],
      "source": [
        "# evalute model performance by using log_loss in the validation data\n",
        "log_loss(y_valid, y_probas)"
      ]
    },
    {
      "cell_type": "code",
      "execution_count": null,
      "metadata": {
        "id": "lscz7aQGnwtQ"
      },
      "outputs": [],
      "source": [
        "# create prediction from the test data\n",
        "test_probas = news_classifier.predict_proba(test_transformed)"
      ]
    },
    {
      "cell_type": "markdown",
      "metadata": {
        "id": "pQpD8Oj8nwtR"
      },
      "source": [
        "### Create Submission File"
      ]
    },
    {
      "cell_type": "code",
      "execution_count": null,
      "metadata": {
        "id": "oLjj96lxnwtT"
      },
      "outputs": [],
      "source": [
        "# create submission file\n",
        "submission_cols = [\"Kitaifa\",\n",
        "\"michezo\" ,\n",
        "\"Biashara\" ,\n",
        "\"Kimataifa\" ,\n",
        "\"Burudani\"  ,\n",
        "]\n",
        "submission_df = pd.DataFrame(test_probas, columns = submission_cols)\n",
        "submission_df['test_id'] = test['swahili_id']   # add  test_id\n",
        "\n",
        "#rearange columns\n",
        "submission_df = submission_df[['test_id',\"Kitaifa\",\n",
        "\"michezo\" ,\n",
        "\"Biashara\" ,\n",
        "\"Kimataifa\" ,\n",
        "\"Burudani\"  ,     ]]\n",
        "\n",
        "# save submission file\n",
        "submission_df.to_csv(path+\"first_submission.csv\",index=False)"
      ]
    },
    {
      "cell_type": "markdown",
      "metadata": {
        "id": "8tRTR40cnwtU"
      },
      "source": [
        "Trying another model to evaluate:"
      ]
    },
    {
      "cell_type": "code",
      "source": [
        "pip install xgboost\n"
      ],
      "metadata": {
        "id": "dwLOJr4Wsvv1"
      },
      "execution_count": null,
      "outputs": []
    },
    {
      "cell_type": "code",
      "source": [
        "import xgboost as xgb\n",
        "from xgboost import XGBClassifier\n",
        "from catboost import CatBoostClassifier\n",
        "from lightgbm import LGBMClassifier\n",
        "import numpy as np\n",
        "\n",
        "# Ensure your data is of the correct type\n",
        "X_train = X_train.astype(np.float32)\n",
        "X_valid = X_valid.astype(np.float32)\n",
        "test_transformed = test_transformed.astype(np.float32)\n",
        "\n",
        "# Initialize the classifiers\n",
        "xgb_classifier = XGBClassifier()\n",
        "catboost_classifier = CatBoostClassifier(verbose=0)\n",
        "lgbm_classifier = LGBMClassifier()\n",
        "\n",
        "# Train the classifiers\n",
        "lgbm_classifier.fit(X_train, y_train)\n",
        "xgb_classifier.fit(X_train, y_train)\n",
        "catboost_classifier.fit(X_train, y_train)\n"
      ],
      "metadata": {
        "id": "J_4pdWblsr-E"
      },
      "execution_count": null,
      "outputs": []
    },
    {
      "cell_type": "code",
      "source": [
        "# Predict probabilities on the validation set\n",
        "xgb_probas = xgb_classifier.predict_proba(X_valid)\n",
        "catboost_probas = catboost_classifier.predict_proba(X_valid)\n",
        "lgbm_probas = lgbm_classifier.predict_proba(X_valid)\n",
        "\n",
        "# Predict probabilities on the test set\n",
        "xgb_test_probas = xgb_classifier.predict_proba(test_transformed)\n",
        "catboost_test_probas = catboost_classifier.predict_proba(test_transformed)\n",
        "lgbm_test_probas = lgbm_classifier.predict_proba(test_transformed)\n",
        "\n"
      ],
      "metadata": {
        "id": "6HTwL7d-1GKD"
      },
      "execution_count": null,
      "outputs": []
    },
    {
      "cell_type": "code",
      "source": [
        "# Average the probabilities from each model\n",
        "ensemble_probas = (xgb_probas + catboost_probas + lgbm_probas) / 3\n",
        "ensemble_test_probas = (xgb_test_probas + catboost_test_probas + lgbm_test_probas) / 3\n"
      ],
      "metadata": {
        "id": "4yAgOBe-7kPd"
      },
      "execution_count": null,
      "outputs": []
    },
    {
      "cell_type": "code",
      "execution_count": null,
      "metadata": {
        "id": "kwFiAe5VnwtW"
      },
      "outputs": [],
      "source": [
        "# create submission file\n",
        "submission_cols = [\"Kitaifa\",\n",
        "\"michezo\" ,\n",
        "\"Biashara\" ,\n",
        "\"Kimataifa\" ,\n",
        "\"Burudani\"  ,\n",
        "]\n",
        "submission_df = pd.DataFrame(lgbm_test_probas, columns = submission_cols)\n",
        "submission_df['test_id'] = test[content']   # add  test_id\n",
        "\n",
        "#rearange columns\n",
        "submission_df = submission_df[['test_id',\"Kitaifa\",\n",
        "\"michezo\" ,\n",
        "\"Biashara\" ,\n",
        "\"Kimataifa\" ,\n",
        "\"Burudani\"  ,     ]]\n",
        "\n",
        "\n",
        "# save submission file\n",
        "submission_df.to_csv(path+\"submission_model2.csv\",index=False)"
      ]
    }
  ],
  "metadata": {
    "hide_input": false,
    "kernelspec": {
      "display_name": "Python 3",
      "name": "python3"
    },
    "language_info": {
      "codemirror_mode": {
        "name": "ipython",
        "version": 3
      },
      "file_extension": ".py",
      "mimetype": "text/x-python",
      "name": "python",
      "nbconvert_exporter": "python",
      "pygments_lexer": "ipython3",
      "version": "3.7.3"
    },
    "toc": {
      "base_numbering": 1,
      "nav_menu": {},
      "number_sections": true,
      "sideBar": true,
      "skip_h1_title": false,
      "title_cell": "Table of Contents",
      "title_sidebar": "Contents",
      "toc_cell": false,
      "toc_position": {},
      "toc_section_display": true,
      "toc_window_display": false
    },
    "colab": {
      "provenance": [],
      "include_colab_link": true
    }
  },
  "nbformat": 4,
  "nbformat_minor": 0
}